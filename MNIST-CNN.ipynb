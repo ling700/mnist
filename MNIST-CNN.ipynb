{
 "cells": [
  {
   "cell_type": "code",
   "execution_count": 1,
   "metadata": {
    "collapsed": true
   },
   "outputs": [],
   "source": [
    "import tensorflow as tf"
   ]
  },
  {
   "cell_type": "code",
   "execution_count": 4,
   "metadata": {
    "collapsed": true
   },
   "outputs": [],
   "source": [
    "import numpy\n",
    "from keras.datasets import mnist\n",
    "from keras.models import Sequential\n",
    "from keras.layers import Dense\n",
    "from keras.layers import Dropout\n",
    "from keras.layers import Flatten\n",
    "from keras.layers.convolutional import Convolution2D\n",
    "from keras.layers.convolutional import MaxPooling2D\n",
    "from keras.utils import np_utils\n",
    "from keras import backend as K\n",
    "K.set_image_dim_ordering('th')\n"
   ]
  },
  {
   "cell_type": "code",
   "execution_count": 5,
   "metadata": {
    "collapsed": true
   },
   "outputs": [],
   "source": [
    "\n",
    "# fix random seed for reproducibility\n",
    "seed = 7\n",
    "numpy.random.seed(seed)\n",
    "# load data\n",
    "(X_train, y_train), (X_test, y_test) = mnist.load_data()\n",
    "# reshape to be [samples][pixels][width][height]\n",
    "X_train = X_train.reshape(X_train.shape[0], 1, 28, 28).astype('float32')\n",
    "X_test = X_test.reshape(X_test.shape[0], 1, 28, 28).astype('float32')\n",
    "# normalize inputs from 0-255 to 0-1\n",
    "X_train = X_train / 255\n",
    "X_test = X_test / 255\n",
    "# one hot encode outputs\n",
    "y_train = np_utils.to_categorical(y_train)\n",
    "y_test = np_utils.to_categorical(y_test)\n",
    "\n",
    "num_classes = y_test.shape[1]#10\n"
   ]
  },
  {
   "cell_type": "code",
   "execution_count": 13,
   "metadata": {
    "collapsed": false
   },
   "outputs": [
    {
     "name": "stdout",
     "output_type": "stream",
     "text": [
      "(10000, 1, 28, 28)\n",
      "(60000, 1, 28, 28)\n",
      "(10000, 10)\n",
      "(60000, 10)\n",
      "(3000, 1, 28, 28)\n",
      "(3000, 10)\n"
     ]
    }
   ],
   "source": [
    "print (X_test.shape)\n",
    "print (X_train.shape)\n",
    "print (y_test.shape)\n",
    "print (y_train.shape)\n",
    "X_train1 = X_train[:3000]\n",
    "y_train1 = y_train[:3000]\n",
    "print (X_train1.shape)\n",
    "print (y_train1.shape)"
   ]
  },
  {
   "cell_type": "code",
   "execution_count": 55,
   "metadata": {
    "collapsed": false
   },
   "outputs": [
    {
     "ename": "KeyboardInterrupt",
     "evalue": "",
     "output_type": "error",
     "traceback": [
      "\u001b[1;31m---------------------------------------------------------------------------\u001b[0m",
      "\u001b[1;31mKeyboardInterrupt\u001b[0m                         Traceback (most recent call last)",
      "\u001b[1;32m<ipython-input-55-4b2cc4c95d78>\u001b[0m in \u001b[0;36m<module>\u001b[1;34m()\u001b[0m\n\u001b[0;32m     10\u001b[0m \u001b[1;32mfor\u001b[0m \u001b[0mX_batch\u001b[0m\u001b[1;33m,\u001b[0m \u001b[0my_batch\u001b[0m \u001b[1;32min\u001b[0m \u001b[0mdatagen\u001b[0m\u001b[1;33m.\u001b[0m\u001b[0mflow\u001b[0m\u001b[1;33m(\u001b[0m\u001b[0mX_train1\u001b[0m\u001b[1;33m,\u001b[0m \u001b[0my_train1\u001b[0m\u001b[1;33m,\u001b[0m \u001b[0mbatch_size\u001b[0m\u001b[1;33m=\u001b[0m \u001b[1;36m50\u001b[0m\u001b[1;33m)\u001b[0m\u001b[1;33m:\u001b[0m\u001b[1;33m\u001b[0m\u001b[0m\n\u001b[0;32m     11\u001b[0m     \u001b[0mi\u001b[0m\u001b[1;33m+=\u001b[0m\u001b[1;36m1\u001b[0m\u001b[1;33m\u001b[0m\u001b[0m\n\u001b[1;32m---> 12\u001b[1;33m     \u001b[0mX_train1\u001b[0m \u001b[1;33m=\u001b[0m \u001b[0mnumpy\u001b[0m\u001b[1;33m.\u001b[0m\u001b[0mrow_stack\u001b[0m\u001b[1;33m(\u001b[0m\u001b[1;33m(\u001b[0m\u001b[0mX_train1\u001b[0m\u001b[1;33m,\u001b[0m \u001b[0mX_batch\u001b[0m\u001b[1;33m)\u001b[0m\u001b[1;33m)\u001b[0m\u001b[1;33m\u001b[0m\u001b[0m\n\u001b[0m\u001b[0;32m     13\u001b[0m     \u001b[0my_train1\u001b[0m \u001b[1;33m=\u001b[0m \u001b[0mnumpy\u001b[0m\u001b[1;33m.\u001b[0m\u001b[0mrow_stack\u001b[0m\u001b[1;33m(\u001b[0m\u001b[1;33m(\u001b[0m\u001b[0my_train1\u001b[0m\u001b[1;33m,\u001b[0m \u001b[0my_batch\u001b[0m\u001b[1;33m)\u001b[0m\u001b[1;33m)\u001b[0m\u001b[1;33m\u001b[0m\u001b[0m\n\u001b[0;32m     14\u001b[0m         \u001b[1;31m#numpy.column_stack((y_train1, y_batch))\u001b[0m\u001b[1;33m\u001b[0m\u001b[1;33m\u001b[0m\u001b[0m\n",
      "\u001b[1;32mC:\\Users\\lingq\\Anaconda3\\envs\\tensorflow\\lib\\site-packages\\numpy\\core\\shape_base.py\u001b[0m in \u001b[0;36mvstack\u001b[1;34m(tup)\u001b[0m\n\u001b[0;32m    232\u001b[0m \u001b[1;33m\u001b[0m\u001b[0m\n\u001b[0;32m    233\u001b[0m     \"\"\"\n\u001b[1;32m--> 234\u001b[1;33m     \u001b[1;32mreturn\u001b[0m \u001b[0m_nx\u001b[0m\u001b[1;33m.\u001b[0m\u001b[0mconcatenate\u001b[0m\u001b[1;33m(\u001b[0m\u001b[1;33m[\u001b[0m\u001b[0matleast_2d\u001b[0m\u001b[1;33m(\u001b[0m\u001b[0m_m\u001b[0m\u001b[1;33m)\u001b[0m \u001b[1;32mfor\u001b[0m \u001b[0m_m\u001b[0m \u001b[1;32min\u001b[0m \u001b[0mtup\u001b[0m\u001b[1;33m]\u001b[0m\u001b[1;33m,\u001b[0m \u001b[1;36m0\u001b[0m\u001b[1;33m)\u001b[0m\u001b[1;33m\u001b[0m\u001b[0m\n\u001b[0m\u001b[0;32m    235\u001b[0m \u001b[1;33m\u001b[0m\u001b[0m\n\u001b[0;32m    236\u001b[0m \u001b[1;32mdef\u001b[0m \u001b[0mhstack\u001b[0m\u001b[1;33m(\u001b[0m\u001b[0mtup\u001b[0m\u001b[1;33m)\u001b[0m\u001b[1;33m:\u001b[0m\u001b[1;33m\u001b[0m\u001b[0m\n",
      "\u001b[1;31mKeyboardInterrupt\u001b[0m: "
     ]
    }
   ],
   "source": [
    "\n",
    "from keras.preprocessing.image import ImageDataGenerator, array_to_img, img_to_array, load_img\n",
    "datagen = ImageDataGenerator(\n",
    "        rotation_range=10,\n",
    "        shear_range=0.5,\n",
    "        zoom_range=0.2,\n",
    "        fill_mode='nearest')\n",
    "datagen.fit(X_train1,seed=3)\n",
    "i = 0\n",
    "for X_batch, y_batch in datagen.flow(X_train1, y_train1, batch_size= 50):\n",
    "    i+=1\n",
    "    X_train1 = numpy.row_stack((X_train1, X_batch))\n",
    "    y_train1 = numpy.row_stack((y_train1, y_batch))\n",
    "        #numpy.column_stack((y_train1, y_batch))\n",
    "    if i >= 3000: \n",
    "        break\n",
    "        \n",
    "print (X_train1.shape)\n",
    "print (y_train1.shape)\n"
   ]
  },
  {
   "cell_type": "code",
   "execution_count": 7,
   "metadata": {
    "collapsed": true
   },
   "outputs": [],
   "source": [
    "#early stopping\n",
    "from keras.callbacks import EarlyStopping\n",
    "early_stopping = EarlyStopping(monitor='val_loss', patience=3)"
   ]
  },
  {
   "cell_type": "code",
   "execution_count": 21,
   "metadata": {
    "collapsed": false,
    "scrolled": false
   },
   "outputs": [
    {
     "name": "stderr",
     "output_type": "stream",
     "text": [
      "C:\\Users\\lingq\\Anaconda3\\envs\\tensorflow\\lib\\site-packages\\ipykernel_launcher.py:6: UserWarning: Update your `Conv2D` call to the Keras 2 API: `Conv2D(50, (5, 5), activation=\"relu\", padding=\"valid\", input_shape=(1, 28, 28...)`\n",
      "  \n",
      "C:\\Users\\lingq\\Anaconda3\\envs\\tensorflow\\lib\\site-packages\\ipykernel_launcher.py:8: UserWarning: Update your `Conv2D` call to the Keras 2 API: `Conv2D(15, (3, 3), activation=\"relu\")`\n",
      "  \n",
      "C:\\Users\\lingq\\Anaconda3\\envs\\tensorflow\\lib\\site-packages\\keras\\models.py:834: UserWarning: The `nb_epoch` argument in `fit` has been renamed `epochs`.\n",
      "  warnings.warn('The `nb_epoch` argument in `fit` '\n"
     ]
    },
    {
     "name": "stdout",
     "output_type": "stream",
     "text": [
      "Train on 3000 samples, validate on 10000 samples\n",
      "Epoch 1/100\n",
      "40s - loss: 2.0962 - acc: 0.2897 - val_loss: 1.5755 - val_acc: 0.5171\n",
      "Epoch 2/100\n",
      "43s - loss: 1.2765 - acc: 0.5743 - val_loss: 0.7616 - val_acc: 0.7697\n",
      "Epoch 3/100\n",
      "47s - loss: 0.7285 - acc: 0.7687 - val_loss: 0.4533 - val_acc: 0.8702\n",
      "Epoch 4/100\n",
      "54s - loss: 0.4928 - acc: 0.8473 - val_loss: 0.3244 - val_acc: 0.9084\n",
      "Epoch 5/100\n",
      "45s - loss: 0.3678 - acc: 0.8937 - val_loss: 0.2620 - val_acc: 0.9239\n",
      "Epoch 6/100\n",
      "43s - loss: 0.2863 - acc: 0.9213 - val_loss: 0.2224 - val_acc: 0.9335\n",
      "Epoch 7/100\n",
      "49s - loss: 0.2528 - acc: 0.9283 - val_loss: 0.2007 - val_acc: 0.9412\n",
      "Epoch 8/100\n",
      "41s - loss: 0.2135 - acc: 0.9397 - val_loss: 0.1782 - val_acc: 0.9475\n",
      "Epoch 9/100\n",
      "43s - loss: 0.1976 - acc: 0.9397 - val_loss: 0.1639 - val_acc: 0.9501\n",
      "Epoch 10/100\n",
      "43s - loss: 0.1762 - acc: 0.9497 - val_loss: 0.1710 - val_acc: 0.9504\n",
      "Epoch 11/100\n",
      "43s - loss: 0.1572 - acc: 0.9547 - val_loss: 0.1391 - val_acc: 0.9595\n",
      "Epoch 12/100\n",
      "45s - loss: 0.1463 - acc: 0.9590 - val_loss: 0.1310 - val_acc: 0.9605\n",
      "Epoch 13/100\n",
      "45s - loss: 0.1327 - acc: 0.9620 - val_loss: 0.1450 - val_acc: 0.9560\n",
      "Epoch 14/100\n",
      "43s - loss: 0.1245 - acc: 0.9617 - val_loss: 0.1204 - val_acc: 0.9651\n",
      "Epoch 15/100\n",
      "50s - loss: 0.1210 - acc: 0.9623 - val_loss: 0.1226 - val_acc: 0.9621\n",
      "Epoch 16/100\n",
      "44s - loss: 0.1135 - acc: 0.9663 - val_loss: 0.1217 - val_acc: 0.9607\n",
      "Epoch 17/100\n",
      "40s - loss: 0.0945 - acc: 0.9707 - val_loss: 0.1087 - val_acc: 0.9668\n",
      "Epoch 18/100\n",
      "39s - loss: 0.0890 - acc: 0.9730 - val_loss: 0.1070 - val_acc: 0.9662\n",
      "Epoch 19/100\n",
      "41s - loss: 0.0877 - acc: 0.9717 - val_loss: 0.1009 - val_acc: 0.9696\n",
      "Epoch 20/100\n",
      "39s - loss: 0.0808 - acc: 0.9763 - val_loss: 0.0985 - val_acc: 0.9705\n",
      "Epoch 21/100\n",
      "46s - loss: 0.0768 - acc: 0.9773 - val_loss: 0.1014 - val_acc: 0.9682\n",
      "Epoch 22/100\n",
      "41s - loss: 0.0693 - acc: 0.9773 - val_loss: 0.1139 - val_acc: 0.9656\n",
      "Epoch 23/100\n",
      "43s - loss: 0.0687 - acc: 0.9810 - val_loss: 0.0953 - val_acc: 0.9693\n",
      "Epoch 24/100\n",
      "41s - loss: 0.0658 - acc: 0.9797 - val_loss: 0.0927 - val_acc: 0.9706\n",
      "Epoch 25/100\n",
      "40s - loss: 0.0489 - acc: 0.9847 - val_loss: 0.0894 - val_acc: 0.9720\n",
      "Epoch 26/100\n",
      "46s - loss: 0.0566 - acc: 0.9833 - val_loss: 0.0934 - val_acc: 0.9697\n",
      "Epoch 27/100\n",
      "42s - loss: 0.0551 - acc: 0.9817 - val_loss: 0.0885 - val_acc: 0.9715\n",
      "Epoch 28/100\n",
      "43s - loss: 0.0568 - acc: 0.9823 - val_loss: 0.0962 - val_acc: 0.9692\n",
      "Epoch 29/100\n",
      "45s - loss: 0.0496 - acc: 0.9853 - val_loss: 0.0874 - val_acc: 0.9740\n",
      "Epoch 30/100\n",
      "44s - loss: 0.0426 - acc: 0.9853 - val_loss: 0.0924 - val_acc: 0.9733\n",
      "Epoch 31/100\n",
      "43s - loss: 0.0403 - acc: 0.9877 - val_loss: 0.0876 - val_acc: 0.9712\n",
      "Epoch 32/100\n",
      "44s - loss: 0.0437 - acc: 0.9853 - val_loss: 0.0868 - val_acc: 0.9722\n",
      "Epoch 33/100\n",
      "48s - loss: 0.0382 - acc: 0.9897 - val_loss: 0.0857 - val_acc: 0.9753\n",
      "Epoch 34/100\n",
      "46s - loss: 0.0359 - acc: 0.9873 - val_loss: 0.0846 - val_acc: 0.9727\n",
      "Epoch 35/100\n",
      "46s - loss: 0.0402 - acc: 0.9860 - val_loss: 0.0965 - val_acc: 0.9705\n",
      "Epoch 36/100\n",
      "44s - loss: 0.0356 - acc: 0.9870 - val_loss: 0.0946 - val_acc: 0.9725\n",
      "Epoch 37/100\n",
      "39s - loss: 0.0340 - acc: 0.9903 - val_loss: 0.0853 - val_acc: 0.9744\n",
      "Epoch 38/100\n",
      "45s - loss: 0.0305 - acc: 0.9900 - val_loss: 0.0879 - val_acc: 0.9735\n",
      "Larger CNN Error: 2.65%\n"
     ]
    }
   ],
   "source": [
    "seed = 7\n",
    "numpy.random.seed(seed)\n",
    "def larger_model():\n",
    "\t# create model\n",
    "\tmodel = Sequential()\n",
    "\tmodel.add(Convolution2D(50, 5, 5, border_mode='valid', input_shape=(1, 28, 28), activation='relu'))\n",
    "\tmodel.add(MaxPooling2D(pool_size=(2, 2)))\n",
    "\tmodel.add(Convolution2D(15, 3, 3, activation='relu'))\n",
    "\tmodel.add(MaxPooling2D(pool_size=(2, 2)))\n",
    "\tmodel.add(Dropout(0.3))\n",
    "\tmodel.add(Flatten())\n",
    "\tmodel.add(Dense(128, activation='relu'))\n",
    "\tmodel.add(Dense(32, activation='relu'))\n",
    "\tmodel.add(Dense(num_classes, activation='softmax'))\n",
    "\t# Compile model\n",
    "\tmodel.compile(loss='categorical_crossentropy', optimizer='adam', metrics=['accuracy'])\n",
    "\treturn model\n",
    "# build the model\n",
    "model = larger_model()\n",
    "# Fit the model\n",
    "model.fit(X_train1, y_train1, validation_data=(X_test, y_test), nb_epoch=100, batch_size=200, verbose=2, callbacks=[early_stopping])\n",
    "# Final evaluation of the model\n",
    "scores = model.evaluate(X_test, y_test, verbose=0)\n",
    "print(\"Larger CNN Error: %.2f%%\" % (100-scores[1]*100))"
   ]
  },
  {
   "cell_type": "code",
   "execution_count": null,
   "metadata": {
    "collapsed": true
   },
   "outputs": [],
   "source": [
    "#test on smaller size training data\n",
    "train_num=[300,600,900,1200,1500,1800] \n",
    "for n in train_num:\n",
    "    X_train1 = X_train[:n] \n",
    "    y_train1 = y_train[:n] \n",
    "    datagen = ImageDataGenerator( rotation_range=10,\n",
    "    shear_range=0.5,\n",
    "    zoom_range=0.2,\n",
    "    fill_mode='nearest')\n",
    "    datagen.fit(X_train1) \n",
    "    i = 0 \n",
    "    for X_batch, y_batch in datagen.flow(X_train1, y_train1, batch_size= 50):\n",
    "        i+=1\n",
    "        X_train1 = numpy.row_stack((X_train1, X_batch))\n",
    "        y_train1 = numpy.row_stack((y_train1, y_batch))\n",
    "            #numpy.column_stack((y_train1, y_batch))\n",
    "        if i >= 3000: \n",
    "            break\n",
    "    model = larger_model() \n",
    "    early_stopping = EarlyStopping(monitor='val_loss', patience=3)\n",
    "    model.fit(X_train1, y_train1, validation_data=(X_test, y_test), nb_epoch=10, batch_size=200, verbose=2, callbacks=[early_stopping]) \n",
    "    scores = model.evaluate(X_test, y_test, verbose=0) \n",
    "    print(\"Larger CNN Error: %.2f%%\" % (100-scores[1]*100))"
   ]
  },
  {
   "cell_type": "code",
   "execution_count": 24,
   "metadata": {
    "collapsed": false,
    "scrolled": true
   },
   "outputs": [
    {
     "data": {
      "image/png": "[encoded data removed]",
      "text/plain": [
       "<matplotlib.figure.Figure at 0x1de03fe3c88>"
      ]
     },
     "metadata": {},
     "output_type": "display_data"
    }
   ],
   "source": [
    "#keras ImageDataGenerator example\n",
    "from keras.datasets import mnist\n",
    "from keras.preprocessing.image import ImageDataGenerator\n",
    "from matplotlib import pyplot\n",
    "from keras import backend as K\n",
    "K.set_image_dim_ordering('th')\n",
    "# load data\n",
    "(X_train, y_train), (X_test, y_test) = mnist.load_data()\n",
    "# reshape to be [samples][pixels][width][height]\n",
    "X_train = X_train.reshape(X_train.shape[0], 1, 28, 28)\n",
    "X_test = X_test.reshape(X_test.shape[0], 1, 28, 28)\n",
    "# convert from int to float\n",
    "X_train = X_train.astype('float32')\n",
    "X_test = X_test.astype('float32')\n",
    "# define data preparation\n",
    "datagen = ImageDataGenerator(\n",
    "        rotation_range=10,\n",
    "    width_shift_range=0,\n",
    "        shear_range=0.5,\n",
    "        zoom_range=0.2,\n",
    "        fill_mode='nearest')\n",
    "\n",
    "X_show=X_train[:9]\n",
    "y_show=y_train[:9]\n",
    "# fit parameters from data\n",
    "datagen.fit(X_show)\n",
    "# configure batch size and retrieve one batch of images\n",
    "for X_batch, y_batch in datagen.flow(X_show, y_show, batch_size=9):\n",
    "\t# create a grid of 3x3 images\n",
    "\tfor i in range(0, 9):\n",
    "\t\tpyplot.subplot(330 + 1 + i)\n",
    "\t\tpyplot.imshow(X_batch[i].reshape(28, 28), cmap=pyplot.get_cmap('gray'))\n",
    "\t# show the plot\n",
    "\tpyplot.show()\n",
    "\tbreak"
   ]
  },
  {
   "cell_type": "code",
   "execution_count": null,
   "metadata": {
    "collapsed": true
   },
   "outputs": [],
   "source": []
  }
 ],
 "metadata": {
  "kernelspec": {
   "display_name": "Python 3",
   "language": "python",
   "name": "python3"
  },
  "language_info": {
   "codemirror_mode": {
    "name": "ipython",
    "version": 3
   },
   "file_extension": ".py",
   "mimetype": "text/x-python",
   "name": "python",
   "nbconvert_exporter": "python",
   "pygments_lexer": "ipython3",
   "version": "3.6.0"
  }
 },
 "nbformat": 4,
 "nbformat_minor": 2
}
